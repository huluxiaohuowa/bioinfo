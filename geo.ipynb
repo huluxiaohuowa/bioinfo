{
 "cells": [
  {
   "cell_type": "code",
   "execution_count": 12,
   "metadata": {},
   "outputs": [],
   "source": [
    "import os\n",
    "import cv2\n",
    "import numpy as np\n",
    "import openslide\n",
    "# from distutils.util import strtobool\n",
    "from tqdm.autonotebook import tqdm\n",
    "import pandas as pd\n",
    "# from jupyfuncs.glob import makedirs"
   ]
  },
  {
   "cell_type": "code",
   "execution_count": 13,
   "metadata": {},
   "outputs": [
    {
     "data": {
      "text/plain": [
       "'/Users/hulu/projects/bioinfo'"
      ]
     },
     "execution_count": 13,
     "metadata": {},
     "output_type": "execute_result"
    }
   ],
   "source": [
    "os.getcwd()"
   ]
  },
  {
   "cell_type": "code",
   "execution_count": 3,
   "metadata": {},
   "outputs": [],
   "source": [
    "def makedirs(path: str, isfile: bool = False) -> None:\n",
    "    \"\"\"Creates a directory given a path to either a directory or file.\n",
    "    If a directory is provided, creates that directory. If a file is provided (i.e. :code:`isfile == True`),\n",
    "    creates the parent directory for that file.\n",
    "    Args:\n",
    "        path (str): Path to a directory or file. \n",
    "        isfile (bool, optional): Whether the provided path is a directory or file.Defaults to False.\n",
    "    \"\"\"    \n",
    "    if isfile:\n",
    "        path = os.path.dirname(path)\n",
    "    if path != '':\n",
    "        os.makedirs(path, exist_ok=True)"
   ]
  },
  {
   "cell_type": "code",
   "execution_count": 14,
   "metadata": {},
   "outputs": [],
   "source": [
    "wsi_name = '/Users/hulu/Downloads/browser/BCL2A1-483a.qptiff'\n",
    "txt_name = './data/BCL2A1.txt'\n",
    "tmaspotsize = 8500\n",
    "outdir = '/Users/hulu/Downloads/browser/BCL2A1/'\n",
    "level = 0\n",
    "wsi_filename = wsi_name\n",
    "txt_filename = txt_name\n",
    "tmaspot_size = tmaspotsize\n",
    "makedirs(outdir)\n"
   ]
  },
  {
   "cell_type": "code",
   "execution_count": 15,
   "metadata": {},
   "outputs": [
    {
     "name": "stdout",
     "output_type": "stream",
     "text": [
      "Extracting patches for /Users/hulu/Downloads/browser/BCL2A1-483a.qptiff into /Users/hulu/Downloads/browser/BCL2A1/\n",
      "Downsample at level 0 is: 1.0\n",
      "WSI dimensions at level 0 are: (72960, 106560).\n"
     ]
    }
   ],
   "source": [
    "print(f\"Extracting patches for {wsi_filename} into {outdir}\")\n",
    "# -\n",
    "\n",
    "# if not os.path.isdir(f\"{outdir}\"):\n",
    "#     os.mkdir(f\"{outdir}\")\n",
    "\n",
    "slide = openslide.OpenSlide(wsi_filename)\n",
    "\n",
    "# Print the slide's downsample info\n",
    "level_dims = slide.level_dimensions[level]\n",
    "level_downsample = slide.level_downsamples[level]\n",
    "print(f'Downsample at level {level} is: {level_downsample}')\n",
    "print(f'WSI dimensions at level {level} are: {level_dims}.')\n",
    "\n",
    "bounds_x = float(slide.properties['openslide.bounds-x']) \\\n",
    "    if (\"openslide.bounds-x\") in slide.properties.keys() \\\n",
    "    else 100\n",
    "bounds_y = float(slide.properties['openslide.bounds-y']) \\\n",
    "    if (\"openslide.bounds-y\") in slide.properties.keys() \\\n",
    "    else 180\n",
    "ratio_x = 3.98\n",
    "ratio_y = 3.98\n",
    "# ratio_x = 1.0/float(slide.properties['openslide.mpp-x'])\n",
    "# ratio_y = 1.0/float(slide.properties['openslide.mpp-y'])\n",
    "\n",
    "# dataset = np.loadtxt(txt_filename, dtype=str, delimiter='\\t', skiprows=1)\n",
    "dataset = np.array(pd.read_csv(txt_filename, sep='\\t'))"
   ]
  },
  {
   "cell_type": "code",
   "execution_count": 16,
   "metadata": {},
   "outputs": [
    {
     "name": "stdout",
     "output_type": "stream",
     "text": [
      "Number of rows in txt file ：80\n"
     ]
    },
    {
     "data": {
      "application/json": {
       "ascii": false,
       "bar_format": null,
       "colour": null,
       "elapsed": 0.008652925491333008,
       "initial": 0,
       "n": 0,
       "ncols": null,
       "nrows": null,
       "postfix": null,
       "prefix": "",
       "rate": null,
       "total": 80,
       "unit": "it",
       "unit_divisor": 1000,
       "unit_scale": false
      },
      "application/vnd.jupyter.widget-view+json": {
       "model_id": "c3e2048453fc4b29a3ea110951e0ae57",
       "version_major": 2,
       "version_minor": 0
      },
      "text/plain": [
       "  0%|          | 0/80 [00:00<?, ?it/s]"
      ]
     },
     "metadata": {},
     "output_type": "display_data"
    },
    {
     "name": "stdout",
     "output_type": "stream",
     "text": [
      "Extracting spot A-1 at location (11338.724, 6940.03)\n",
      "Extracting spot A-2 at location (20501.878, 6748.592000000001)\n",
      "Extracting spot A-3 at location (29160.368000000002, 6051.6939999999995)\n",
      "Extracting spot A-4 at location (38814.256, 6051.6939999999995)\n",
      "Extracting spot A-5 at location (48268.746, 6848.092000000001)\n",
      "Extracting spot A-6 at location (57424.736000000004, 6748.592000000001)\n",
      "Extracting spot A-7 at location (66481.22600000001, 7644.092000000001)\n",
      "Extracting spot A-8 at location (75139.716, 7843.092000000001)\n",
      "Extracting spot B-1 at location (10947.887999999999, 16103.582)\n",
      "Extracting spot B-2 at location (20203.378, 16302.582)\n",
      "Extracting spot B-3 at location (29359.368000000002, 16302.582)\n",
      "Extracting spot B-4 at location (38515.358, 15705.582)\n",
      "Extracting spot B-5 at location (47970.246, 16402.082000000002)\n",
      "Extracting spot B-6 at location (57225.736000000004, 16004.082)\n",
      "Extracting spot B-7 at location (66381.72600000001, 16999.082)\n",
      "Extracting spot B-8 at location (75139.716, 17098.582)\n",
      "Extracting spot C-1 at location (10748.887999999999, 25558.072)\n",
      "Extracting spot C-2 at location (20004.378, 25359.072)\n",
      "Extracting spot C-3 at location (29160.368000000002, 25458.572)\n",
      "Extracting spot C-4 at location (38216.858, 25160.072)\n",
      "Extracting spot C-5 at location (47671.746, 26055.572)\n",
      "Extracting spot C-6 at location (57126.236000000004, 25359.072)\n",
      "Extracting spot C-7 at location (66381.72600000001, 26055.572)\n",
      "Extracting spot C-8 at location (75537.716, 26254.97)\n",
      "Extracting spot D-1 at location (10151.887999999999, 34813.562)\n",
      "Extracting spot D-2 at location (19606.378, 34216.562)\n",
      "Extracting spot D-3 at location (28961.368000000002, 34515.062)\n",
      "Extracting spot D-4 at location (38117.358, 34316.062)\n",
      "Extracting spot D-5 at location (47472.348, 35112.062)\n"
     ]
    },
    {
     "ename": "KeyboardInterrupt",
     "evalue": "",
     "output_type": "error",
     "traceback": [
      "\u001b[0;31m---------------------------------------------------------------------------\u001b[0m",
      "\u001b[0;31mKeyboardInterrupt\u001b[0m                         Traceback (most recent call last)",
      "\u001b[1;32m/Users/hulu/projects/bioinfo/geo.ipynb Cell 6\u001b[0m in \u001b[0;36m<cell line: 3>\u001b[0;34m()\u001b[0m\n\u001b[1;32m      <a href='vscode-notebook-cell:/Users/hulu/projects/bioinfo/geo.ipynb#W4sZmlsZQ%3D%3D?line=7'>8</a>\u001b[0m \u001b[39mprint\u001b[39m(\u001b[39mf\u001b[39m\u001b[39m\"\u001b[39m\u001b[39mExtracting spot \u001b[39m\u001b[39m{\u001b[39;00mlabel\u001b[39m}\u001b[39;00m\u001b[39m at location\u001b[39m\u001b[39m\"\u001b[39m, (x, y))\n\u001b[1;32m      <a href='vscode-notebook-cell:/Users/hulu/projects/bioinfo/geo.ipynb#W4sZmlsZQ%3D%3D?line=8'>9</a>\u001b[0m scaled_spot_size \u001b[39m=\u001b[39m (\n\u001b[1;32m     <a href='vscode-notebook-cell:/Users/hulu/projects/bioinfo/geo.ipynb#W4sZmlsZQ%3D%3D?line=9'>10</a>\u001b[0m     \u001b[39mint\u001b[39m(tmaspot_size \u001b[39m/\u001b[39m level_downsample),\n\u001b[1;32m     <a href='vscode-notebook-cell:/Users/hulu/projects/bioinfo/geo.ipynb#W4sZmlsZQ%3D%3D?line=10'>11</a>\u001b[0m     \u001b[39mint\u001b[39m(tmaspot_size \u001b[39m/\u001b[39m level_downsample)\n\u001b[1;32m     <a href='vscode-notebook-cell:/Users/hulu/projects/bioinfo/geo.ipynb#W4sZmlsZQ%3D%3D?line=11'>12</a>\u001b[0m )\n\u001b[1;32m     <a href='vscode-notebook-cell:/Users/hulu/projects/bioinfo/geo.ipynb#W4sZmlsZQ%3D%3D?line=12'>13</a>\u001b[0m tmaspot \u001b[39m=\u001b[39m np\u001b[39m.\u001b[39masarray(\n\u001b[0;32m---> <a href='vscode-notebook-cell:/Users/hulu/projects/bioinfo/geo.ipynb#W4sZmlsZQ%3D%3D?line=13'>14</a>\u001b[0m     slide\u001b[39m.\u001b[39;49mread_region(\n\u001b[1;32m     <a href='vscode-notebook-cell:/Users/hulu/projects/bioinfo/geo.ipynb#W4sZmlsZQ%3D%3D?line=14'>15</a>\u001b[0m         (\u001b[39mint\u001b[39;49m(x \u001b[39m-\u001b[39;49m tmaspot_size \u001b[39m*\u001b[39;49m \u001b[39m0.5\u001b[39;49m), \u001b[39mint\u001b[39;49m(y \u001b[39m-\u001b[39;49m tmaspot_size \u001b[39m*\u001b[39;49m \u001b[39m0.5\u001b[39;49m)),\n\u001b[1;32m     <a href='vscode-notebook-cell:/Users/hulu/projects/bioinfo/geo.ipynb#W4sZmlsZQ%3D%3D?line=15'>16</a>\u001b[0m         level,\n\u001b[1;32m     <a href='vscode-notebook-cell:/Users/hulu/projects/bioinfo/geo.ipynb#W4sZmlsZQ%3D%3D?line=16'>17</a>\u001b[0m         (\u001b[39m8500\u001b[39;49m, \u001b[39m8500\u001b[39;49m)\n\u001b[1;32m     <a href='vscode-notebook-cell:/Users/hulu/projects/bioinfo/geo.ipynb#W4sZmlsZQ%3D%3D?line=17'>18</a>\u001b[0m     )\n\u001b[1;32m     <a href='vscode-notebook-cell:/Users/hulu/projects/bioinfo/geo.ipynb#W4sZmlsZQ%3D%3D?line=18'>19</a>\u001b[0m )[:, :, \u001b[39m0\u001b[39m:\u001b[39m3\u001b[39m]\n\u001b[1;32m     <a href='vscode-notebook-cell:/Users/hulu/projects/bioinfo/geo.ipynb#W4sZmlsZQ%3D%3D?line=19'>20</a>\u001b[0m tmaspot \u001b[39m=\u001b[39m cv2\u001b[39m.\u001b[39mcvtColor(tmaspot, cv2\u001b[39m.\u001b[39mCOLOR_RGB2BGR)\n\u001b[1;32m     <a href='vscode-notebook-cell:/Users/hulu/projects/bioinfo/geo.ipynb#W4sZmlsZQ%3D%3D?line=20'>21</a>\u001b[0m cv2\u001b[39m.\u001b[39mimwrite(\u001b[39mf\u001b[39m\u001b[39m\"\u001b[39m\u001b[39m{\u001b[39;00moutdir\u001b[39m}\u001b[39;00m\u001b[39m/\u001b[39m\u001b[39m{\u001b[39;00mlabel\u001b[39m}\u001b[39;00m\u001b[39m.png\u001b[39m\u001b[39m\"\u001b[39m, tmaspot)\n",
      "File \u001b[0;32m~/mambaforge/lib/python3.9/site-packages/openslide/__init__.py:236\u001b[0m, in \u001b[0;36mOpenSlide.read_region\u001b[0;34m(self, location, level, size)\u001b[0m\n\u001b[1;32m    226\u001b[0m \u001b[39mdef\u001b[39;00m \u001b[39mread_region\u001b[39m(\u001b[39mself\u001b[39m, location, level, size):\n\u001b[1;32m    227\u001b[0m     \u001b[39m\"\"\"Return a PIL.Image containing the contents of the region.\u001b[39;00m\n\u001b[1;32m    228\u001b[0m \n\u001b[1;32m    229\u001b[0m \u001b[39m    location: (x, y) tuple giving the top left pixel in the level 0\u001b[39;00m\n\u001b[0;32m   (...)\u001b[0m\n\u001b[1;32m    234\u001b[0m \u001b[39m    Unlike in the C interface, the image data returned by this\u001b[39;00m\n\u001b[1;32m    235\u001b[0m \u001b[39m    function is not premultiplied.\"\"\"\u001b[39;00m\n\u001b[0;32m--> 236\u001b[0m     \u001b[39mreturn\u001b[39;00m lowlevel\u001b[39m.\u001b[39;49mread_region(\n\u001b[1;32m    237\u001b[0m         \u001b[39mself\u001b[39;49m\u001b[39m.\u001b[39;49m_osr, location[\u001b[39m0\u001b[39;49m], location[\u001b[39m1\u001b[39;49m], level, size[\u001b[39m0\u001b[39;49m], size[\u001b[39m1\u001b[39;49m]\n\u001b[1;32m    238\u001b[0m     )\n",
      "File \u001b[0;32m~/mambaforge/lib/python3.9/site-packages/openslide/lowlevel.py:311\u001b[0m, in \u001b[0;36mread_region\u001b[0;34m(slide, x, y, level, w, h)\u001b[0m\n\u001b[1;32m    309\u001b[0m     \u001b[39mreturn\u001b[39;00m PIL\u001b[39m.\u001b[39mImage\u001b[39m.\u001b[39mnew(\u001b[39m'\u001b[39m\u001b[39mRGBA\u001b[39m\u001b[39m'\u001b[39m, (w, h))\n\u001b[1;32m    310\u001b[0m buf \u001b[39m=\u001b[39m (w \u001b[39m*\u001b[39m h \u001b[39m*\u001b[39m c_uint32)()\n\u001b[0;32m--> 311\u001b[0m _read_region(slide, buf, x, y, level, w, h)\n\u001b[1;32m    312\u001b[0m \u001b[39mreturn\u001b[39;00m _load_image(buf, (w, h))\n",
      "File \u001b[0;32m~/mambaforge/lib/python3.9/site-packages/openslide/lowlevel.py:222\u001b[0m, in \u001b[0;36m_check_error\u001b[0;34m(result, func, args)\u001b[0m\n\u001b[1;32m    218\u001b[0m         \u001b[39mreturn\u001b[39;00m result\n\u001b[1;32m    221\u001b[0m \u001b[39m# check if the library got into an error state after each library call\u001b[39;00m\n\u001b[0;32m--> 222\u001b[0m \u001b[39mdef\u001b[39;00m \u001b[39m_check_error\u001b[39m(result, func, args):\n\u001b[1;32m    223\u001b[0m     err \u001b[39m=\u001b[39m get_error(args[\u001b[39m0\u001b[39m])\n\u001b[1;32m    224\u001b[0m     \u001b[39mif\u001b[39;00m err \u001b[39mis\u001b[39;00m \u001b[39mnot\u001b[39;00m \u001b[39mNone\u001b[39;00m:\n",
      "\u001b[0;31mKeyboardInterrupt\u001b[0m: "
     ]
    }
   ],
   "source": [
    "print(f\"Number of rows in txt file ：{len(dataset)}\") \n",
    "i = 0\n",
    "for row in tqdm(dataset):\n",
    "    fname, label, missing, x, y = row\n",
    "    if not missing:\n",
    "        x = (float(x) * ratio_x) + bounds_x\n",
    "        y = (float(y) * ratio_y) + bounds_y\n",
    "        print(f\"Extracting spot {label} at location\", (x, y))\n",
    "        scaled_spot_size = (\n",
    "            int(tmaspot_size / level_downsample),\n",
    "            int(tmaspot_size / level_downsample)\n",
    "        )\n",
    "        tmaspot = np.asarray(\n",
    "            slide.read_region(\n",
    "                (int(x - tmaspot_size * 0.5), int(y - tmaspot_size * 0.5)),\n",
    "                level,\n",
    "                (8500, 8500)\n",
    "            )\n",
    "        )[:, :, 0:3]\n",
    "        tmaspot = cv2.cvtColor(tmaspot, cv2.COLOR_RGB2BGR)\n",
    "        cv2.imwrite(f\"{outdir}/{label}.png\", tmaspot)\n",
    "    else:\n",
    "        print(f'The spot {label} is missing, skipping!')\n",
    "    i += 1\n",
    "    if i >= 2:\n",
    "        break\n",
    "print('Extracted all the spots!')"
   ]
  },
  {
   "cell_type": "code",
   "execution_count": null,
   "metadata": {},
   "outputs": [],
   "source": []
  }
 ],
 "metadata": {
  "kernelspec": {
   "display_name": "base",
   "language": "python",
   "name": "python3"
  },
  "language_info": {
   "codemirror_mode": {
    "name": "ipython",
    "version": 3
   },
   "file_extension": ".py",
   "mimetype": "text/x-python",
   "name": "python",
   "nbconvert_exporter": "python",
   "pygments_lexer": "ipython3",
   "version": "3.9.13"
  },
  "orig_nbformat": 4,
  "vscode": {
   "interpreter": {
    "hash": "88b2a884945c4597b0fe3d57be72b305c59c56f9274a07c3e9a7054a9774794e"
   }
  }
 },
 "nbformat": 4,
 "nbformat_minor": 2
}

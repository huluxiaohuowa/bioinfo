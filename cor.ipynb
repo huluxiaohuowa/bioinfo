{
 "cells": [
  {
   "cell_type": "code",
   "execution_count": 2,
   "metadata": {},
   "outputs": [],
   "source": [
    "import pandas as pd\n",
    "import numpy as np\n",
    "from scipy import stats"
   ]
  },
  {
   "cell_type": "code",
   "execution_count": 6,
   "metadata": {},
   "outputs": [],
   "source": [
    "df1 = pd.read_excel('~/Downloads/Book1-.xlsx', sheet_name=\"BCL2A1\")\n",
    "df2 = pd.read_excel('~/Downloads/Book1-.xlsx', sheet_name=\"p-IKBa\")"
   ]
  },
  {
   "cell_type": "code",
   "execution_count": 10,
   "metadata": {},
   "outputs": [],
   "source": [
    "data_all = df1['AOD.1'].tolist() + df2['AOD'].tolist()\n"
   ]
  },
  {
   "cell_type": "code",
   "execution_count": 11,
   "metadata": {},
   "outputs": [],
   "source": [
    "positive_mean = np.average(data_all)\n",
    "moda_data = []\n",
    "for data_point in data_all:\n",
    "    if data_point < positive_mean:\n",
    "        moda_data.append(data_point)\n",
    "moda_mean = np.average(moda_data) "
   ]
  },
  {
   "cell_type": "code",
   "execution_count": 12,
   "metadata": {},
   "outputs": [],
   "source": [
    "df1['level'] = 0\n",
    "for i in range(len(df1)):\n",
    "    if df1['AOD.1'][i] >= positive_mean:\n",
    "        df1.loc[i, 'level'] = 'positive'\n",
    "    elif (\n",
    "        df1['AOD.1'][i] < positive_mean\n",
    "        and df1['AOD.1'][i] >= moda_mean\n",
    "    ):\n",
    "        df1.loc[i, 'level'] = 'moderate'\n",
    "    else:\n",
    "        df1.loc[i, 'level'] = 'low'\n",
    "\n",
    "for i in range(len(df2)):\n",
    "    if df2['AOD'][i] >= positive_mean:\n",
    "        df2.loc[i, 'level'] = 'positive'\n",
    "    elif (\n",
    "        df2['AOD'][i] < positive_mean\n",
    "        and df2['AOD'][i] >= moda_mean\n",
    "    ):\n",
    "        df2.loc[i, 'level'] = 'moderate'\n",
    "    else:\n",
    "        df2.loc[i, 'level'] = 'low'"
   ]
  },
  {
   "cell_type": "code",
   "execution_count": 25,
   "metadata": {},
   "outputs": [],
   "source": [
    "count_dict = {\n",
    "    \"B_l_p_l\": 0,\n",
    "    \"B_l_p_m\": 0,\n",
    "    \"B_l_p_p\": 0,\n",
    "    \"B_m_p_l\": 0,\n",
    "    \"B_m_p_m\": 0,\n",
    "    \"B_m_p_p\": 0,\n",
    "    \"B_p_p_l\": 0,\n",
    "    \"B_p_p_m\": 0,\n",
    "    \"B_p_p_p\": 0,\n",
    "}"
   ]
  },
  {
   "cell_type": "code",
   "execution_count": 26,
   "metadata": {},
   "outputs": [],
   "source": [
    "for i in range(80):\n",
    "    if (\n",
    "        df1.loc[i, 'level'] == 'low'\n",
    "        and df2.loc[i, 'level'] == 'low'\n",
    "    ):\n",
    "        count_dict[\"B_l_p_l\"] += 1\n",
    "    \n",
    "    elif (\n",
    "        df1.loc[i, 'level'] == 'low'\n",
    "        and df2.loc[i, 'level'] == 'moderate'\n",
    "    ):\n",
    "        count_dict[\"B_l_p_m\"] += 1\n",
    "\n",
    "    elif (\n",
    "        df1.loc[i, 'level'] == 'low'\n",
    "        and df2.loc[i, 'level'] == 'positive'\n",
    "    ):\n",
    "        count_dict[\"B_l_p_p\"] += 1\n",
    "\n",
    "    elif (\n",
    "        df1.loc[i, 'level'] == 'moderate'\n",
    "        and df2.loc[i, 'level'] == 'low'\n",
    "    ):\n",
    "        count_dict[\"B_m_p_l\"] += 1\n",
    "\n",
    "    elif (\n",
    "        df1.loc[i, 'level'] == 'moderate'\n",
    "        and df2.loc[i, 'level'] == 'moderate'\n",
    "    ):\n",
    "        count_dict[\"B_m_p_m\"] += 1\n",
    "\n",
    "    elif (\n",
    "        df1.loc[i, 'level'] == 'moderate'\n",
    "        and df2.loc[i, 'level'] == 'positive'\n",
    "    ):\n",
    "        count_dict[\"B_m_p_p\"] += 1\n",
    "\n",
    "    elif (\n",
    "        df1.loc[i, 'level'] == 'positive'\n",
    "        and df2.loc[i, 'level'] == 'low'\n",
    "    ):\n",
    "        count_dict[\"B_p_p_l\"] += 1\n",
    "        \n",
    "    elif (\n",
    "        df1.loc[i, 'level'] == 'positive'\n",
    "        and df2.loc[i, 'level'] == 'moderate'\n",
    "    ):\n",
    "        count_dict[\"B_p_p_m\"] += 1\n",
    "\n",
    "    elif (\n",
    "        df1.loc[i, 'level'] == 'positive'\n",
    "        and df2.loc[i, 'level'] == 'positive'\n",
    "    ):\n",
    "        count_dict[\"B_p_p_p\"] += 1\n",
    "    \n",
    "    else:\n",
    "        print(i)"
   ]
  },
  {
   "cell_type": "code",
   "execution_count": 27,
   "metadata": {},
   "outputs": [
    {
     "data": {
      "text/plain": [
       "{'B_l_p_l': 10,\n",
       " 'B_l_p_m': 11,\n",
       " 'B_l_p_p': 10,\n",
       " 'B_m_p_l': 4,\n",
       " 'B_m_p_m': 4,\n",
       " 'B_m_p_p': 20,\n",
       " 'B_p_p_l': 1,\n",
       " 'B_p_p_m': 4,\n",
       " 'B_p_p_p': 16}"
      ]
     },
     "execution_count": 27,
     "metadata": {},
     "output_type": "execute_result"
    }
   ],
   "source": [
    "count_dict"
   ]
  },
  {
   "cell_type": "code",
   "execution_count": 7,
   "metadata": {},
   "outputs": [],
   "source": [
    "r, p = stats.pearsonr(df1['AOD.1'], df2['AOD'])"
   ]
  },
  {
   "cell_type": "code",
   "execution_count": 17,
   "metadata": {},
   "outputs": [],
   "source": [
    "df1.to_csv('df1,csv', sep='\\t', index=False)\n",
    "df2.to_csv('df2,csv', sep='\\t', index=False)"
   ]
  },
  {
   "cell_type": "code",
   "execution_count": 9,
   "metadata": {},
   "outputs": [
    {
     "data": {
      "text/plain": [
       "0.02175008359960956"
      ]
     },
     "execution_count": 9,
     "metadata": {},
     "output_type": "execute_result"
    }
   ],
   "source": [
    "p"
   ]
  },
  {
   "cell_type": "code",
   "execution_count": null,
   "metadata": {},
   "outputs": [],
   "source": []
  }
 ],
 "metadata": {
  "kernelspec": {
   "display_name": "Python 3.9.13 ('base')",
   "language": "python",
   "name": "python3"
  },
  "language_info": {
   "codemirror_mode": {
    "name": "ipython",
    "version": 3
   },
   "file_extension": ".py",
   "mimetype": "text/x-python",
   "name": "python",
   "nbconvert_exporter": "python",
   "pygments_lexer": "ipython3",
   "version": "3.9.13"
  },
  "orig_nbformat": 4,
  "vscode": {
   "interpreter": {
    "hash": "88b2a884945c4597b0fe3d57be72b305c59c56f9274a07c3e9a7054a9774794e"
   }
  }
 },
 "nbformat": 4,
 "nbformat_minor": 2
}
